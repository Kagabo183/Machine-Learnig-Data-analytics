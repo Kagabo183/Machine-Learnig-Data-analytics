{
 "cells": [
  {
   "cell_type": "code",
   "execution_count": null,
   "id": "8de5a4e2-583a-4d5c-9627-05e851751291",
   "metadata": {},
   "outputs": [],
   "source": [
    "import pandas as pd\n",
    "import matplotlib.pyplot as plt\n",
    "import seaborn as sns\n",
    "import numpy as np\n",
    "\n",
    "df = pd.read_excel(r\"C:\\Users\\RIZIKI\\Downloads\\Find data from 1994.xlsx\", sheet_name=\"Data\")\n",
    "\n",
    "# Extract years and indicator columns\n",
    "years = df[\"Indicators in Rwanda\"]\n",
    "indicators = df.columns[1:] \n",
    "\n",
    "# Function to create a trendline chart for each indicator\n",
    "def create_trendline_chart(years, values, indicator_name):\n",
    "    plt.figure(figsize=(10, 6))\n",
    "    \n",
    "    # Plot actual data points\n",
    "    plt.plot(years, values, label=\"Actual\", marker='o', color='b')\n",
    "    \n",
    "    # Calculate and plot the trendline \n",
    "    z = np.polyfit(years, values, 1) \n",
    "    p = np.poly1d(z)\n",
    "    plt.plot(years, p(years), label=\"Trendline\", linestyle=\"--\", color=\"r\")\n",
    "    \n",
    "    # Add labels and title\n",
    "    plt.title(f\"{indicator_name} with Trendline\")\n",
    "    plt.xlabel(\"Year\")\n",
    "    plt.ylabel(indicator_name)\n",
    "    plt.legend()\n",
    "\n",
    "    # Show all year ticks on x-axis\n",
    "    plt.xticks(years, rotation=45)  \n",
    "    \n",
    "    # Save the plot as a PNG file\n",
    "    save_path = r\"C:\\Users\\RIZIKI\\Downloads\\{}_trend.png\".format(indicator_name)\n",
    "    plt.savefig(save_path)  # Save to the specified path\n",
    "    \n",
    "    # Show the plot inline in Jupyter\n",
    "    plt.show()\n",
    "\n",
    "# Generate trendline charts for each indicator\n",
    "for indicator in indicators:\n",
    "    values = df[indicator]  # Get values for each indicator\n",
    "    create_trendline_chart(years, values, indicator)\n"
   ]
  }
 ],
 "metadata": {
  "kernelspec": {
   "display_name": "Python 3 (ipykernel)",
   "language": "python",
   "name": "python3"
  },
  "language_info": {
   "codemirror_mode": {
    "name": "ipython",
    "version": 3
   },
   "file_extension": ".py",
   "mimetype": "text/x-python",
   "name": "python",
   "nbconvert_exporter": "python",
   "pygments_lexer": "ipython3",
   "version": "3.12.4"
  }
 },
 "nbformat": 4,
 "nbformat_minor": 5
}
